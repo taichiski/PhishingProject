{
 "cells": [
  {
   "cell_type": "code",
   "execution_count": 2,
   "metadata": {},
   "outputs": [],
   "source": [
    "import pandas as pd\n",
    "import numpy as np\n",
    "\n",
    "np.random.seed(7)"
   ]
  },
  {
   "cell_type": "code",
   "execution_count": 3,
   "metadata": {},
   "outputs": [],
   "source": [
    "X_train, y_train = np.load(\"X_train.npy\", allow_pickle=True), np.load(\"y_train.npy\", allow_pickle=True)\n",
    "X_test, y_test = np.load(\"X_test.npy\", allow_pickle=True), np.load(\"y_test.npy\", allow_pickle=True)"
   ]
  },
  {
   "cell_type": "code",
   "execution_count": 6,
   "metadata": {},
   "outputs": [],
   "source": [
    "from sklearn.metrics import accuracy_score, precision_recall_fscore_support, classification_report\n",
    "from sklearn.linear_model import LogisticRegression\n",
    "import wandb\n",
    "import time"
   ]
  },
  {
   "cell_type": "code",
   "execution_count": 7,
   "metadata": {},
   "outputs": [],
   "source": [
    "def train_eval_pipeline(model, train_data, test_data, name):\n",
    "    # Initialize Weights and Biases\n",
    "    wandb.init(project=\"phishing-websites-detection\", name=name)\n",
    "    \n",
    "    # Segregate the datasets\n",
    "    (X_train, y_train) = train_data\n",
    "    (X_test, y_test) = test_data\n",
    "    \n",
    "    # Train the model and log all the necessary metrics\n",
    "    start = time.time()\n",
    "    model.fit(X_train, y_train)\n",
    "    end = time.time() - start\n",
    "    prediction = model.predict(X_test)\n",
    "\n",
    "    wandb.log({\"accuracy\":accuracy_score(y_test, prediction)*100.0,\\\n",
    "               \"precision\": precision_recall_fscore_support(y_test, prediction, average='macro')[0],\n",
    "               \"recall\": precision_recall_fscore_support(y_test, prediction, average='macro')[1],\n",
    "               \"training_time\":end})\n",
    "    \n",
    "    print(\"Accuracy score of the Logistic Regression classifier with default hyperparameter values {0:.2f}%\"\\\n",
    "              .format(accuracy_score(y_test, prediction)*100.))\n",
    "    print(\"\\n\")\n",
    "    print(\"----Classification report of the Logistic Regression classifier with default hyperparameter value----\")\n",
    "    print(\"\\n\")\n",
    "    print(classification_report(y_test, prediction, target_names=[\"Phishing Websites\", \"Normal Websites\"]))"
   ]
  },
  {
   "cell_type": "code",
   "execution_count": 9,
   "metadata": {},
   "outputs": [
    {
     "name": "stderr",
     "output_type": "stream",
     "text": [
      "wandb: ERROR Not authenticated.  Copy a key from https://app.wandb.ai/authorize\n"
     ]
    },
    {
     "name": "stdout",
     "output_type": "stream",
     "text": [
      "API Key: ········\n"
     ]
    },
    {
     "name": "stderr",
     "output_type": "stream",
     "text": [
      "wandb: Appending key for api.wandb.ai to your netrc file: /Users/timkwei/.netrc\n"
     ]
    },
    {
     "data": {
      "text/html": [
       "\n",
       "                Logging results to <a href=\"https://wandb.com\" target=\"_blank\">Weights & Biases</a> <a href=\"https://docs.wandb.com/integrations/jupyter.html\" target=\"_blank\">(Documentation)</a>.<br/>\n",
       "                Project page: <a href=\"https://app.wandb.ai/timk/phishing-websites-detection\" target=\"_blank\">https://app.wandb.ai/timk/phishing-websites-detection</a><br/>\n",
       "                Run page: <a href=\"https://app.wandb.ai/timk/phishing-websites-detection/runs/1vpn50d8\" target=\"_blank\">https://app.wandb.ai/timk/phishing-websites-detection/runs/1vpn50d8</a><br/>\n",
       "            "
      ],
      "text/plain": [
       "<IPython.core.display.HTML object>"
      ]
     },
     "metadata": {},
     "output_type": "display_data"
    },
    {
     "name": "stdout",
     "output_type": "stream",
     "text": [
      "Accuracy score of the Logistic Regression classifier with default hyperparameter values 92.48%\n",
      "\n",
      "\n",
      "----Classification report of the Logistic Regression classifier with default hyperparameter value----\n",
      "\n",
      "\n",
      "                   precision    recall  f1-score   support\n",
      "\n",
      "Phishing Websites       0.93      0.90      0.91      3924\n",
      "  Normal Websites       0.92      0.94      0.93      4920\n",
      "\n",
      "         accuracy                           0.92      8844\n",
      "        macro avg       0.92      0.92      0.92      8844\n",
      "     weighted avg       0.92      0.92      0.92      8844\n",
      "\n"
     ]
    }
   ],
   "source": [
    "logreg = LogisticRegression()\n",
    "train_eval_pipeline(logreg, (X_train, y_train),\n",
    "                         (X_test, y_test), \"logistic_regression\")"
   ]
  },
  {
   "cell_type": "code",
   "execution_count": null,
   "metadata": {},
   "outputs": [],
   "source": []
  }
 ],
 "metadata": {
  "kernelspec": {
   "display_name": "Python 3",
   "language": "python",
   "name": "python3"
  },
  "language_info": {
   "codemirror_mode": {
    "name": "ipython",
    "version": 3
   },
   "file_extension": ".py",
   "mimetype": "text/x-python",
   "name": "python",
   "nbconvert_exporter": "python",
   "pygments_lexer": "ipython3",
   "version": "3.7.6"
  }
 },
 "nbformat": 4,
 "nbformat_minor": 4
}
